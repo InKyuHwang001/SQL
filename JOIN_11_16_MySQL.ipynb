{
  "nbformat": 4,
  "nbformat_minor": 0,
  "metadata": {
    "colab": {
      "provenance": [],
      "authorship_tag": "ABX9TyPy0Vjc3/P+NtVK3L0eIV9H",
      "include_colab_link": true
    },
    "kernelspec": {
      "name": "python3",
      "display_name": "Python 3"
    },
    "language_info": {
      "name": "python"
    }
  },
  "cells": [
    {
      "cell_type": "markdown",
      "metadata": {
        "id": "view-in-github",
        "colab_type": "text"
      },
      "source": [
        "<a href=\"https://colab.research.google.com/github/InKyuHwang001/SQL/blob/master/JOIN_11_16_MySQL.ipynb\" target=\"_parent\"><img src=\"https://colab.research.google.com/assets/colab-badge.svg\" alt=\"Open In Colab\"/></a>"
      ]
    },
    {
      "cell_type": "markdown",
      "source": [
        "# 오랜 기간 보호한 동물(1)\n",
        "- https://school.programmers.co.kr/learn/courses/30/lessons/59044"
      ],
      "metadata": {
        "id": "LKyUMu3v2p4b"
      }
    },
    {
      "cell_type": "code",
      "source": [
        "SELECT A.NAME, A.DATETIME FROM ANIMAL_INS AS A\n",
        "LEFT JOIN ANIMAL_OUTS AS B  ON A.ANIMAL_ID = B.ANIMAL_ID\n",
        "WHERE B.ANIMAL_ID IS NULL\n",
        "ORDER BY A.DATETIME\n",
        "LIMIT 3"
      ],
      "metadata": {
        "id": "ApzlahLr2px9"
      },
      "execution_count": null,
      "outputs": []
    },
    {
      "cell_type": "markdown",
      "source": [
        "# 보호소에서 중성화한 동물\n",
        "- https://school.programmers.co.kr/learn/courses/30/lessons/59045"
      ],
      "metadata": {
        "id": "2PFbaZvS2prM"
      }
    },
    {
      "cell_type": "code",
      "source": [
        "SELECT A.ANIMAL_ID,A.ANIMAL_TYPE, A.NAME FROM ANIMAL_INS A\n",
        "JOIN ANIMAL_OUTS B ON A.ANIMAL_ID=B.ANIMAL_ID\n",
        "WHERE A.SEX_UPON_INTAKE LIKE 'INTACT%' AND (B.SEX_UPON_OUTCOME LIKE 'SPAYED%' OR B.SEX_UPON_OUTCOME LIKE 'NEUTERED%')\n",
        "ORDER BY A.ANIMAL_ID"
      ],
      "metadata": {
        "id": "YSmszPAO2pic"
      },
      "execution_count": null,
      "outputs": []
    }
  ]
}