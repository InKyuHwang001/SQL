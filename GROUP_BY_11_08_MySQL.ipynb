{
  "nbformat": 4,
  "nbformat_minor": 0,
  "metadata": {
    "colab": {
      "provenance": [],
      "authorship_tag": "ABX9TyNkaiit9cLWYXgDqijZxHZB",
      "include_colab_link": true
    },
    "kernelspec": {
      "name": "python3",
      "display_name": "Python 3"
    },
    "language_info": {
      "name": "python"
    }
  },
  "cells": [
    {
      "cell_type": "markdown",
      "metadata": {
        "id": "view-in-github",
        "colab_type": "text"
      },
      "source": [
        "<a href=\"https://colab.research.google.com/github/InKyuHwang001/SQL/blob/master/GROUP_BY_11_08_MySQL.ipynb\" target=\"_parent\"><img src=\"https://colab.research.google.com/assets/colab-badge.svg\" alt=\"Open In Colab\"/></a>"
      ]
    },
    {
      "cell_type": "markdown",
      "source": [
        "# 고양이와 개는 몇 마리 있을까\n",
        "- https://school.programmers.co.kr/learn/courses/30/lessons/59040"
      ],
      "metadata": {
        "id": "KfFGLlp6dPkC"
      }
    },
    {
      "cell_type": "markdown",
      "source": [
        "SELECT ANIMAL_TYPE, COUNT(ANIMAL_TYPE) FROM ANIMAL_INS\n",
        "GROUP BY ANIMAL_TYPE \n",
        "ORDER BY ANIMAL_TYPE;\n",
        "\n"
      ],
      "metadata": {
        "id": "h5mq_DUAdPhL"
      }
    },
    {
      "cell_type": "markdown",
      "source": [
        "# 동명 동물 수 찾기\n",
        "- https://school.programmers.co.kr/learn/courses/30/lessons/59041"
      ],
      "metadata": {
        "id": "tpRqR5SQuOdW"
      }
    },
    {
      "cell_type": "markdown",
      "source": [
        "SELECT NAME, COUNT(NAME) AS 'COUNT' FROM ANIMAL_INS\n",
        "GROUP BY NAME\n",
        "HAVING COUNT(NAME) > 1\n",
        "ORDER BY NAME ASC;"
      ],
      "metadata": {
        "id": "GdjHk9EfuOA7"
      }
    }
  ]
}