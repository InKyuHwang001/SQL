{
  "nbformat": 4,
  "nbformat_minor": 0,
  "metadata": {
    "colab": {
      "provenance": [],
      "authorship_tag": "ABX9TyP9xoBOtPkqvctMZXiAn4rF",
      "include_colab_link": true
    },
    "kernelspec": {
      "name": "python3",
      "display_name": "Python 3"
    },
    "language_info": {
      "name": "python"
    }
  },
  "cells": [
    {
      "cell_type": "markdown",
      "metadata": {
        "id": "view-in-github",
        "colab_type": "text"
      },
      "source": [
        "<a href=\"https://colab.research.google.com/github/InKyuHwang001/Algorithm/blob/master/String%2C_Date_11_12_MySQL.ipynb\" target=\"_parent\"><img src=\"https://colab.research.google.com/assets/colab-badge.svg\" alt=\"Open In Colab\"/></a>"
      ]
    },
    {
      "cell_type": "markdown",
      "source": [
        "# 루시와 엘라 찾기\n",
        "- https://school.programmers.co.kr/learn/courses/30/lessons/59046"
      ],
      "metadata": {
        "id": "Lm_xpKXkU3dy"
      }
    },
    {
      "cell_type": "code",
      "source": [
        "SELECT ANIMAL_ID, NAME, SEX_UPON_INTAKE\n",
        "FROM ANIMAL_INS\n",
        "WHERE NAME IN ('Lucy','Ella','Pickle','Rogan','Sabrina','Mitty')\n",
        "ORDER BY ANIMAL_ID;"
      ],
      "metadata": {
        "id": "-BSApus_U3Vv"
      },
      "execution_count": null,
      "outputs": []
    },
    {
      "cell_type": "markdown",
      "source": [
        "# 이름에 el이 들어가는 동물 찾기\n",
        "- https://school.programmers.co.kr/learn/courses/30/lessons/59047"
      ],
      "metadata": {
        "id": "jel2WCs0U3Nb"
      }
    },
    {
      "cell_type": "code",
      "source": [
        "SELECT ANIMAL_ID, NAME FROM ANIMAL_INS\n",
        "WHERE NAME LIKE \"%EL%\" AND ANIMAL_TYPE\t= 'Dog'\n",
        "ORDER BY NAME"
      ],
      "metadata": {
        "id": "oj6wUjFhU3Ej"
      },
      "execution_count": null,
      "outputs": []
    }
  ]
}