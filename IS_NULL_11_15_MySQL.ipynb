{
  "nbformat": 4,
  "nbformat_minor": 0,
  "metadata": {
    "colab": {
      "provenance": [],
      "authorship_tag": "ABX9TyNGBWzOJOZvG5ji5bgNDFEb",
      "include_colab_link": true
    },
    "kernelspec": {
      "name": "python3",
      "display_name": "Python 3"
    },
    "language_info": {
      "name": "python"
    }
  },
  "cells": [
    {
      "cell_type": "markdown",
      "metadata": {
        "id": "view-in-github",
        "colab_type": "text"
      },
      "source": [
        "<a href=\"https://colab.research.google.com/github/InKyuHwang001/SQL/blob/master/IS_NULL_11_15_MySQL.ipynb\" target=\"_parent\"><img src=\"https://colab.research.google.com/assets/colab-badge.svg\" alt=\"Open In Colab\"/></a>"
      ]
    },
    {
      "cell_type": "markdown",
      "source": [
        "# 경기도에 위치한 식품창고 목록 출력하기\n",
        "- https://school.programmers.co.kr/learn/courses/30/lessons/131114"
      ],
      "metadata": {
        "id": "Lm_xpKXkU3dy"
      }
    },
    {
      "cell_type": "code",
      "source": [
        "SELECT WAREHOUSE_ID,WAREHOUSE_NAME,ADDRESS, CASE WHEN FREEZER_YN IS NULL THEN 'N' ELSE FREEZER_YN END\n",
        "FROM FOOD_WAREHOUSE\n",
        "WHERE ADDRESS LIKE '경기도%'\n",
        "ORDER BY WAREHOUSE_ID"
      ],
      "metadata": {
        "id": "-BSApus_U3Vv"
      },
      "execution_count": null,
      "outputs": []
    },
    {
      "cell_type": "markdown",
      "source": [
        "# 나이 정보가 없는 회원 수 구하기\n",
        "- https://school.programmers.co.kr/learn/courses/30/lessons/131528"
      ],
      "metadata": {
        "id": "jel2WCs0U3Nb"
      }
    },
    {
      "cell_type": "code",
      "source": [
        "SELECT COUNT(USER_ID) AS USERS\n",
        "FROM USER_INFO\n",
        "WHERE AGE IS NULL"
      ],
      "metadata": {
        "id": "oj6wUjFhU3Ej"
      },
      "execution_count": null,
      "outputs": []
    }
  ]
}