{
  "nbformat": 4,
  "nbformat_minor": 0,
  "metadata": {
    "colab": {
      "provenance": [],
      "authorship_tag": "ABX9TyN8aF/feAZDWDZ2825OAb7M",
      "include_colab_link": true
    },
    "kernelspec": {
      "name": "python3",
      "display_name": "Python 3"
    },
    "language_info": {
      "name": "python"
    }
  },
  "cells": [
    {
      "cell_type": "markdown",
      "metadata": {
        "id": "view-in-github",
        "colab_type": "text"
      },
      "source": [
        "<a href=\"https://colab.research.google.com/github/InKyuHwang001/SQL/blob/master/JOIN_11_10_MySQL.ipynb\" target=\"_parent\"><img src=\"https://colab.research.google.com/assets/colab-badge.svg\" alt=\"Open In Colab\"/></a>"
      ]
    },
    {
      "cell_type": "markdown",
      "source": [
        "# 없어진 기록 찾기\n",
        "- https://school.programmers.co.kr/learn/courses/30/lessons/59042"
      ],
      "metadata": {
        "id": "QalxDh4E6F0f"
      }
    },
    {
      "cell_type": "code",
      "source": [
        "SELECT A.ANIMAL_ID, A.NAME FROM ANIMAL_OUTS AS A\n",
        "LEFT JOIN ANIMAL_INS AS B ON A.ANIMAL_ID = B.ANIMAL_ID\n",
        "WHERE B.ANIMAL_ID IS NULL ORDER BY A.ANIMAL_ID;"
      ],
      "metadata": {
        "id": "VQTQ-ByW6FpA"
      },
      "execution_count": null,
      "outputs": []
    },
    {
      "cell_type": "markdown",
      "source": [
        "# 있었는데요 없었습니다\n",
        "- https://school.programmers.co.kr/learn/courses/30/lessons/59043"
      ],
      "metadata": {
        "id": "Q0RijXri6E6Q"
      }
    },
    {
      "cell_type": "code",
      "source": [
        "SELECT A.ANIMAL_ID, A.NAME FROM ANIMAL_OUTS AS A\n",
        "LEFT JOIN ANIMAL_INS AS B ON A.ANIMAL_ID=B.ANIMAL_ID\n",
        "WHERE A.DATETIME < B.DATETIME\n",
        "ORDER BY B.DATETIME;"
      ],
      "metadata": {
        "id": "x1OGuo2-6FYB"
      },
      "execution_count": null,
      "outputs": []
    }
  ]
}