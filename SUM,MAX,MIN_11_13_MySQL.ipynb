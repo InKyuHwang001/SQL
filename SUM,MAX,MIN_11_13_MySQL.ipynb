{
  "nbformat": 4,
  "nbformat_minor": 0,
  "metadata": {
    "colab": {
      "provenance": [],
      "authorship_tag": "ABX9TyNxiFb2htk0GGAZ7dlkBJz9",
      "include_colab_link": true
    },
    "kernelspec": {
      "name": "python3",
      "display_name": "Python 3"
    },
    "language_info": {
      "name": "python"
    }
  },
  "cells": [
    {
      "cell_type": "markdown",
      "metadata": {
        "id": "view-in-github",
        "colab_type": "text"
      },
      "source": [
        "<a href=\"https://colab.research.google.com/github/InKyuHwang001/Algorithm/blob/master/SUM%2CMAX%2CMIN_11_13_MySQL.ipynb\" target=\"_parent\"><img src=\"https://colab.research.google.com/assets/colab-badge.svg\" alt=\"Open In Colab\"/></a>"
      ]
    },
    {
      "cell_type": "markdown",
      "source": [
        "# 최댓값 구하기\n",
        "- https://school.programmers.co.kr/learn/courses/30/lessons/59415"
      ],
      "metadata": {
        "id": "Lm_xpKXkU3dy"
      }
    },
    {
      "cell_type": "code",
      "source": [
        "SELECT MAX(DATETIME) as '시간' FROM ANIMAL_INS"
      ],
      "metadata": {
        "id": "-BSApus_U3Vv"
      },
      "execution_count": null,
      "outputs": []
    },
    {
      "cell_type": "markdown",
      "source": [
        "# 최솟값 구하기\n",
        "- https://school.programmers.co.kr/learn/courses/30/lessons/59038"
      ],
      "metadata": {
        "id": "jel2WCs0U3Nb"
      }
    },
    {
      "cell_type": "code",
      "source": [
        "select min(DATETIME) as '시간' from ANIMAL_INS"
      ],
      "metadata": {
        "id": "oj6wUjFhU3Ej"
      },
      "execution_count": null,
      "outputs": []
    }
  ]
}