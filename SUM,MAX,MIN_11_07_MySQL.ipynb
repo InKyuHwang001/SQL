{
  "nbformat": 4,
  "nbformat_minor": 0,
  "metadata": {
    "colab": {
      "provenance": [],
      "authorship_tag": "ABX9TyP79E35elE8tN/l+hWVFrsQ",
      "include_colab_link": true
    },
    "kernelspec": {
      "name": "python3",
      "display_name": "Python 3"
    },
    "language_info": {
      "name": "python"
    }
  },
  "cells": [
    {
      "cell_type": "markdown",
      "metadata": {
        "id": "view-in-github",
        "colab_type": "text"
      },
      "source": [
        "<a href=\"https://colab.research.google.com/github/InKyuHwang001/SQL/blob/master/SUM%2CMAX%2CMIN_11_07_MySQL.ipynb\" target=\"_parent\"><img src=\"https://colab.research.google.com/assets/colab-badge.svg\" alt=\"Open In Colab\"/></a>"
      ]
    },
    {
      "cell_type": "markdown",
      "source": [
        "# 가장 비싼 상품 구하기\n",
        "- https://school.programmers.co.kr/learn/courses/30/lessons/131697"
      ],
      "metadata": {
        "id": "KfFGLlp6dPkC"
      }
    },
    {
      "cell_type": "markdown",
      "source": [
        "SELECT MAX(PRICE) AS MAX_PRICE FROM PRODUCT;"
      ],
      "metadata": {
        "id": "h5mq_DUAdPhL"
      }
    },
    {
      "cell_type": "markdown",
      "source": [
        "# 가격이 제일 비싼 식품의 정보 출력하기\n",
        "- https://school.programmers.co.kr/learn/courses/30/lessons/131115"
      ],
      "metadata": {
        "id": "0gCAKbvNdPcy"
      }
    },
    {
      "cell_type": "markdown",
      "source": [
        "SELECT *\n",
        "FROM FOOD_PRODUCT\n",
        "ORDER BY PRICE DESC\n",
        "LIMIT 1"
      ],
      "metadata": {
        "id": "Ju5559KAdPXb"
      }
    },
    {
      "cell_type": "markdown",
      "source": [
        "가장 **큰거** 및 **작은거**를 찾을 시 ORDER BY \\{\\} DESC\\{ASC\\}를 사용"
      ],
      "metadata": {
        "id": "voZ31B7-eyEe"
      }
    }
  ]
}