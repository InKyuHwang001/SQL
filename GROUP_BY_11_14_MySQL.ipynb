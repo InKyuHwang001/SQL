{
  "nbformat": 4,
  "nbformat_minor": 0,
  "metadata": {
    "colab": {
      "provenance": [],
      "authorship_tag": "ABX9TyPCqpHwZcR4db3RzeIOXsgA",
      "include_colab_link": true
    },
    "kernelspec": {
      "name": "python3",
      "display_name": "Python 3"
    },
    "language_info": {
      "name": "python"
    }
  },
  "cells": [
    {
      "cell_type": "markdown",
      "metadata": {
        "id": "view-in-github",
        "colab_type": "text"
      },
      "source": [
        "<a href=\"https://colab.research.google.com/github/InKyuHwang001/SQL/blob/master/GROUP_BY_11_14_MySQL.ipynb\" target=\"_parent\"><img src=\"https://colab.research.google.com/assets/colab-badge.svg\" alt=\"Open In Colab\"/></a>"
      ]
    },
    {
      "cell_type": "markdown",
      "source": [
        "# 입양 시각 구하기(1)\n",
        "- https://school.programmers.co.kr/learn/courses/30/lessons/59412"
      ],
      "metadata": {
        "id": "Lm_xpKXkU3dy"
      }
    },
    {
      "cell_type": "code",
      "source": [
        "SELECT HOUR(DATETIME) AS 'HOUR' , COUNT(HOUR(DATETIME)) AS 'COUNT'\n",
        "FROM ANIMAL_OUTS \n",
        "WHERE HOUR(DATETIME) >= 9 AND HOUR(DATETIME) <= 19 \n",
        "GROUP BY HOUR(DATETIME)\n",
        "ORDER BY HOUR(DATETIME);"
      ],
      "metadata": {
        "id": "-BSApus_U3Vv"
      },
      "execution_count": null,
      "outputs": []
    },
    {
      "cell_type": "markdown",
      "source": [
        "# 입양 시각 구하기(2)\n",
        "- https://school.programmers.co.kr/learn/courses/30/lessons/59413"
      ],
      "metadata": {
        "id": "jel2WCs0U3Nb"
      }
    },
    {
      "cell_type": "code",
      "source": [
        "set @HOUR = -1;\n",
        "select (@HOUR := @HOUR+1) as 'HOUR', (SELECT COUNT(*) FROM ANIMAL_OUTS WHERE HOUR(DATETIME) = @HOUR) AS COUNT\n",
        "FROM ANIMAL_OUTS\n",
        "WHERE @hour < 23"
      ],
      "metadata": {
        "id": "oj6wUjFhU3Ej"
      },
      "execution_count": null,
      "outputs": []
    }
  ]
}