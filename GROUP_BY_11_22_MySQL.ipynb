{
  "nbformat": 4,
  "nbformat_minor": 0,
  "metadata": {
    "colab": {
      "provenance": [],
      "authorship_tag": "ABX9TyPso30nbFRJwFT2uiuU0XWq"
    },
    "kernelspec": {
      "name": "python3",
      "display_name": "Python 3"
    },
    "language_info": {
      "name": "python"
    }
  },
  "cells": [
    {
      "cell_type": "markdown",
      "source": [
        "# 진료과별 총 예약 횟수 출력하기\n",
        "- https://school.programmers.co.kr/learn/courses/30/lessons/132202"
      ],
      "metadata": {
        "id": "3iNLhzu33853"
      }
    },
    {
      "cell_type": "code",
      "execution_count": null,
      "metadata": {
        "id": "Q_DZLDfp3uTi"
      },
      "outputs": [],
      "source": [
        "SELECT MCDP_CD AS \"진료과코드\", COUNT(APNT_YMD) AS \"5월예약건수\" FROM APPOINTMENT \n",
        "WHERE APNT_YMD LIKE \"%22-05%\"\n",
        "GROUP BY MCDP_CD\n",
        "ORDER BY COUNT(APNT_YMD), MCDP_CD"
      ]
    },
    {
      "cell_type": "markdown",
      "source": [
        "# 성분으로 구분한 아이스크림 총 주문량\n",
        "- https://school.programmers.co.kr/learn/courses/30/lessons/133026"
      ],
      "metadata": {
        "id": "zNGw0lgz3_u6"
      }
    },
    {
      "cell_type": "code",
      "source": [
        "SELECT B.INGREDIENT_TYPE, SUM(A.TOTAL_ORDER) AS \"TOTAL_ORDER\" FROM FIRST_HALF AS A\n",
        "LEFT JOIN ICECREAM_INFO AS B ON A.FLAVOR = B.FLAVOR\n",
        "GROUP BY B.INGREDIENT_TYPE\n",
        "ORDER BY A.TOTAL_ORDER"
      ],
      "metadata": {
        "id": "ENBsNalX4AJJ"
      },
      "execution_count": null,
      "outputs": []
    }
  ]
}