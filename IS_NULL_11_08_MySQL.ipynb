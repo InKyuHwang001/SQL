{
  "nbformat": 4,
  "nbformat_minor": 0,
  "metadata": {
    "colab": {
      "provenance": [],
      "authorship_tag": "ABX9TyNTrSPdICODLkVvdoeVLdAk",
      "include_colab_link": true
    },
    "kernelspec": {
      "name": "python3",
      "display_name": "Python 3"
    },
    "language_info": {
      "name": "python"
    }
  },
  "cells": [
    {
      "cell_type": "markdown",
      "metadata": {
        "id": "view-in-github",
        "colab_type": "text"
      },
      "source": [
        "<a href=\"https://colab.research.google.com/github/InKyuHwang001/SQL/blob/master/IS_NULL_11_08_MySQL.ipynb\" target=\"_parent\"><img src=\"https://colab.research.google.com/assets/colab-badge.svg\" alt=\"Open In Colab\"/></a>"
      ]
    },
    {
      "cell_type": "markdown",
      "source": [
        "# 이름이 없는 동물의 아이디\n",
        "- https://school.programmers.co.kr/learn/courses/30/lessons/59039"
      ],
      "metadata": {
        "id": "Dy4JzdFAxQKK"
      }
    },
    {
      "cell_type": "markdown",
      "source": [
        "SELECT ANIMAL_ID FROM ANIMAL_INS\n",
        "WHERE NAME IS NULL;"
      ],
      "metadata": {
        "id": "mHAkMvoKxP_F"
      }
    },
    {
      "cell_type": "markdown",
      "source": [
        "# 이름이 있는 동물의 아이디\n",
        "- https://school.programmers.co.kr/learn/courses/30/lessons/59407"
      ],
      "metadata": {
        "id": "6ToFc-6HxP6a"
      }
    },
    {
      "cell_type": "markdown",
      "source": [
        "SELECT ANIMAL_ID FROM ANIMAL_INS\n",
        "WHERE NAME IS NOT NULL;"
      ],
      "metadata": {
        "id": "IlAhZ9-ixP3c"
      }
    },
    {
      "cell_type": "markdown",
      "source": [
        "# NULL 처리하기\n",
        "- https://school.programmers.co.kr/learn/courses/30/lessons/59410"
      ],
      "metadata": {
        "id": "TWnKCt5Wxe2p"
      }
    },
    {
      "cell_type": "code",
      "source": [
        "SELECT ANIMAL_TYPE, IFNULL(NAME, \"No name\") as NAME, SEX_UPON_INTAKE\n",
        "FROM ANIMAL_INS;"
      ],
      "metadata": {
        "id": "N0EcR-nUxfFZ"
      },
      "execution_count": null,
      "outputs": []
    }
  ]
}