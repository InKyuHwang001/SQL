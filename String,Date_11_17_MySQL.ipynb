{
  "nbformat": 4,
  "nbformat_minor": 0,
  "metadata": {
    "colab": {
      "provenance": [],
      "authorship_tag": "ABX9TyMqknlZxTB0eAgs38nZ/DQL",
      "include_colab_link": true
    },
    "kernelspec": {
      "name": "python3",
      "display_name": "Python 3"
    },
    "language_info": {
      "name": "python"
    }
  },
  "cells": [
    {
      "cell_type": "markdown",
      "metadata": {
        "id": "view-in-github",
        "colab_type": "text"
      },
      "source": [
        "<a href=\"https://colab.research.google.com/github/InKyuHwang001/SQL/blob/master/String%2CDate_11_17_MySQL.ipynb\" target=\"_parent\"><img src=\"https://colab.research.google.com/assets/colab-badge.svg\" alt=\"Open In Colab\"/></a>"
      ]
    },
    {
      "cell_type": "markdown",
      "source": [
        "# 중성화 여부 파악하기\n",
        "- https://school.programmers.co.kr/learn/courses/30/lessons/59409"
      ],
      "metadata": {
        "id": "h5rqfo6-DJnG"
      }
    },
    {
      "cell_type": "code",
      "source": [
        "SELECT ANIMAL_ID, NAME, \n",
        "CASE WHEN(SEX_UPON_INTAKE LIKE \"%Neutered%\" OR SEX_UPON_INTAKE LIKE \"%Spayed%\") THEN \"O\" ELSE \"X\" END AS '중성화'\n",
        "FROM ANIMAL_INS\n",
        "ORDER BY ANIMAL_ID;"
      ],
      "metadata": {
        "id": "b2vH-7m3DJc_"
      },
      "execution_count": null,
      "outputs": []
    },
    {
      "cell_type": "code",
      "execution_count": null,
      "metadata": {
        "id": "SDE6fQOUGF7X"
      },
      "outputs": [],
      "source": [
        "SELECT ANIMAL_ID, NAME, \n",
        "IF(SEX_UPON_INTAKE LIKE '%NEUTERED%' OR SEX_UPON_INTAKE LIKE '%SPAYED%','O','X') AS '중성화'\n",
        "FROM ANIMAL_INS\n",
        "ORDER BY ANIMAL_ID;"
      ]
    },
    {
      "cell_type": "markdown",
      "source": [
        "# 오랜 기간 보호한 동물(2)\n",
        "- https://school.programmers.co.kr/learn/courses/30/lessons/59411"
      ],
      "metadata": {
        "id": "3VBtxAcWDJ-t"
      }
    },
    {
      "cell_type": "code",
      "source": [
        "SELECT I.ANIMAL_ID, I.NAME \n",
        "FROM ANIMAL_INS I, ANIMAL_OUTS O WHERE I.ANIMAL_ID = O.ANIMAL_ID \n",
        "ORDER BY O.DATETIME-I.DATETIME DESC \n",
        "LIMIT 2;"
      ],
      "metadata": {
        "id": "YuucWQRiDKUH"
      },
      "execution_count": null,
      "outputs": []
    },
    {
      "cell_type": "code",
      "source": [
        "SELECT I.ANIMAL_ID, I.NAME FROM ANIMAL_INS I \n",
        "JOIN ANIMAL_OUTS O ON I.ANIMAL_ID = O.ANIMAL_ID \n",
        "ORDER BY O.DATETIME-I.DATETIME DESC LIMIT 2; "
      ],
      "metadata": {
        "id": "VC0N-BAWPNLz"
      },
      "execution_count": null,
      "outputs": []
    }
  ]
}