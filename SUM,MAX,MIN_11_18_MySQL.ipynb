{
  "nbformat": 4,
  "nbformat_minor": 0,
  "metadata": {
    "colab": {
      "provenance": [],
      "authorship_tag": "ABX9TyN1M1QWOJGJmOXStYU4hPb0"
    },
    "kernelspec": {
      "name": "python3",
      "display_name": "Python 3"
    },
    "language_info": {
      "name": "python"
    }
  },
  "cells": [
    {
      "cell_type": "markdown",
      "source": [
        "# 동물 수 구하기\n",
        "- https://school.programmers.co.kr/learn/courses/30/lessons/59406"
      ],
      "metadata": {
        "id": "WYR6l_m2KQXq"
      }
    },
    {
      "cell_type": "code",
      "execution_count": null,
      "metadata": {
        "id": "bS3CTsMCIfDh"
      },
      "outputs": [],
      "source": [
        "SELECT COUNT(ANIMAL_ID) FROM ANIMAL_INS"
      ]
    },
    {
      "cell_type": "markdown",
      "source": [
        "# 중복 제거하기\n",
        "- https://school.programmers.co.kr/learn/courses/30/lessons/59408"
      ],
      "metadata": {
        "id": "JZ_2CgBrKU5n"
      }
    },
    {
      "cell_type": "code",
      "source": [
        "SELECT COUNT(DISTINCT NAME) AS 'count' FROM ANIMAL_INS\n",
        "WHERE NAME IS NOT NULL"
      ],
      "metadata": {
        "id": "pCjJbdybKVKu"
      },
      "execution_count": null,
      "outputs": []
    }
  ]
}